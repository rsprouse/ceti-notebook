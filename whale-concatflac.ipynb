{
 "cells": [
  {
   "cell_type": "code",
   "execution_count": 2,
   "id": "e5092ea6",
   "metadata": {},
   "outputs": [],
   "source": [
    "import subprocess\n",
    "from pathlib import Path\n",
    "from phonlab.utils import dir2df"
   ]
  },
  {
   "cell_type": "code",
   "execution_count": 18,
   "id": "ca546373",
   "metadata": {},
   "outputs": [
    {
     "data": {
      "text/html": [
       "<div>\n",
       "<style scoped>\n",
       "    .dataframe tbody tr th:only-of-type {\n",
       "        vertical-align: middle;\n",
       "    }\n",
       "\n",
       "    .dataframe tbody tr th {\n",
       "        vertical-align: top;\n",
       "    }\n",
       "\n",
       "    .dataframe thead th {\n",
       "        text-align: right;\n",
       "    }\n",
       "</style>\n",
       "<table border=\"1\" class=\"dataframe\">\n",
       "  <thead>\n",
       "    <tr style=\"text-align: right;\">\n",
       "      <th></th>\n",
       "      <th>relpath</th>\n",
       "      <th>fname</th>\n",
       "      <th>tag</th>\n",
       "      <th>seq</th>\n",
       "      <th>seqi</th>\n",
       "    </tr>\n",
       "  </thead>\n",
       "  <tbody>\n",
       "    <tr>\n",
       "      <th>31</th>\n",
       "      <td>2015</td>\n",
       "      <td>sw061a001.flac</td>\n",
       "      <td>sw061a</td>\n",
       "      <td>001</td>\n",
       "      <td>1</td>\n",
       "    </tr>\n",
       "    <tr>\n",
       "      <th>32</th>\n",
       "      <td>2015</td>\n",
       "      <td>sw061a002.flac</td>\n",
       "      <td>sw061a</td>\n",
       "      <td>002</td>\n",
       "      <td>2</td>\n",
       "    </tr>\n",
       "    <tr>\n",
       "      <th>33</th>\n",
       "      <td>2015</td>\n",
       "      <td>sw061a003.flac</td>\n",
       "      <td>sw061a</td>\n",
       "      <td>003</td>\n",
       "      <td>3</td>\n",
       "    </tr>\n",
       "    <tr>\n",
       "      <th>34</th>\n",
       "      <td>2015</td>\n",
       "      <td>sw061b001.flac</td>\n",
       "      <td>sw061b</td>\n",
       "      <td>001</td>\n",
       "      <td>1</td>\n",
       "    </tr>\n",
       "    <tr>\n",
       "      <th>35</th>\n",
       "      <td>2015</td>\n",
       "      <td>sw061b002.flac</td>\n",
       "      <td>sw061b</td>\n",
       "      <td>002</td>\n",
       "      <td>2</td>\n",
       "    </tr>\n",
       "    <tr>\n",
       "      <th>...</th>\n",
       "      <td>...</td>\n",
       "      <td>...</td>\n",
       "      <td>...</td>\n",
       "      <td>...</td>\n",
       "      <td>...</td>\n",
       "    </tr>\n",
       "    <tr>\n",
       "      <th>179</th>\n",
       "      <td>2018</td>\n",
       "      <td>sw143a006.flac</td>\n",
       "      <td>sw143a</td>\n",
       "      <td>006</td>\n",
       "      <td>6</td>\n",
       "    </tr>\n",
       "    <tr>\n",
       "      <th>180</th>\n",
       "      <td>2018</td>\n",
       "      <td>sw143a007.flac</td>\n",
       "      <td>sw143a</td>\n",
       "      <td>007</td>\n",
       "      <td>7</td>\n",
       "    </tr>\n",
       "    <tr>\n",
       "      <th>181</th>\n",
       "      <td>2018</td>\n",
       "      <td>sw143a008.flac</td>\n",
       "      <td>sw143a</td>\n",
       "      <td>008</td>\n",
       "      <td>8</td>\n",
       "    </tr>\n",
       "    <tr>\n",
       "      <th>182</th>\n",
       "      <td>2018</td>\n",
       "      <td>sw18136a001.flac</td>\n",
       "      <td>sw18136a</td>\n",
       "      <td>001</td>\n",
       "      <td>1</td>\n",
       "    </tr>\n",
       "    <tr>\n",
       "      <th>183</th>\n",
       "      <td>2018</td>\n",
       "      <td>sw18136a002.flac</td>\n",
       "      <td>sw18136a</td>\n",
       "      <td>002</td>\n",
       "      <td>2</td>\n",
       "    </tr>\n",
       "  </tbody>\n",
       "</table>\n",
       "<p>184 rows × 5 columns</p>\n",
       "</div>"
      ],
      "text/plain": [
       "    relpath             fname       tag  seq  seqi\n",
       "31     2015    sw061a001.flac    sw061a  001     1\n",
       "32     2015    sw061a002.flac    sw061a  002     2\n",
       "33     2015    sw061a003.flac    sw061a  003     3\n",
       "34     2015    sw061b001.flac    sw061b  001     1\n",
       "35     2015    sw061b002.flac    sw061b  002     2\n",
       "..      ...               ...       ...  ...   ...\n",
       "179    2018    sw143a006.flac    sw143a  006     6\n",
       "180    2018    sw143a007.flac    sw143a  007     7\n",
       "181    2018    sw143a008.flac    sw143a  008     8\n",
       "182    2018  sw18136a001.flac  sw18136a  001     1\n",
       "183    2018  sw18136a002.flac  sw18136a  002     2\n",
       "\n",
       "[184 rows x 5 columns]"
      ]
     },
     "execution_count": 18,
     "metadata": {},
     "output_type": "execute_result"
    }
   ],
   "source": [
    "flacdir = Path('/global/scratch/users/rsprouse/datasets/ceti/CETIdata')\n",
    "flacdf = dir2df(flacdir, fnpat=r'(?P<tag>sw\\d+[a-z])(?P<seq>\\d+)', dirpat=r'20\\d\\d')\n",
    "flacdf['seqi'] = flacdf['seq'].astype(int)\n",
    "flacdf = flacdf.sort_values(['tag', 'seqi'])\n",
    "flacdf"
   ]
  },
  {
   "cell_type": "code",
   "execution_count": 37,
   "id": "4a804fae",
   "metadata": {},
   "outputs": [
    {
     "name": "stdout",
     "output_type": "stream",
     "text": [
      "/global/home/groups/fc_phonlab/miniconda3/envs/phonlab3.11/bin/sox /global/scratch/users/rsprouse/datasets/ceti/CETIdata/2015/sw061a001.flac /global/scratch/users/rsprouse/datasets/ceti/CETIdata/2015/sw061a002.flac /global/scratch/users/rsprouse/datasets/ceti/CETIdata/2015/sw061a003.flac /global/scratch/users/rsprouse/datasets/ceti/CETIdata/2015/sw061a.flac\n",
      "/global/home/groups/fc_phonlab/miniconda3/envs/phonlab3.11/bin/sox /global/scratch/users/rsprouse/datasets/ceti/CETIdata/2015/sw061b001.flac /global/scratch/users/rsprouse/datasets/ceti/CETIdata/2015/sw061b002.flac /global/scratch/users/rsprouse/datasets/ceti/CETIdata/2015/sw061b003.flac /global/scratch/users/rsprouse/datasets/ceti/CETIdata/2015/sw061b004.flac /global/scratch/users/rsprouse/datasets/ceti/CETIdata/2015/sw061b005.flac /global/scratch/users/rsprouse/datasets/ceti/CETIdata/2015/sw061b.flac\n",
      "/global/home/groups/fc_phonlab/miniconda3/envs/phonlab3.11/bin/sox /global/scratch/users/rsprouse/datasets/ceti/CETIdata/2015/sw061c001.flac /global/scratch/users/rsprouse/datasets/ceti/CETIdata/2015/sw061c002.flac /global/scratch/users/rsprouse/datasets/ceti/CETIdata/2015/sw061c003.flac /global/scratch/users/rsprouse/datasets/ceti/CETIdata/2015/sw061c.flac\n",
      "/global/home/groups/fc_phonlab/miniconda3/envs/phonlab3.11/bin/sox /global/scratch/users/rsprouse/datasets/ceti/CETIdata/2015/sw078a001.flac /global/scratch/users/rsprouse/datasets/ceti/CETIdata/2015/sw078a002.flac /global/scratch/users/rsprouse/datasets/ceti/CETIdata/2015/sw078a003.flac /global/scratch/users/rsprouse/datasets/ceti/CETIdata/2015/sw078a004.flac /global/scratch/users/rsprouse/datasets/ceti/CETIdata/2015/sw078a005.flac /global/scratch/users/rsprouse/datasets/ceti/CETIdata/2015/sw078a006.flac /global/scratch/users/rsprouse/datasets/ceti/CETIdata/2015/sw078a.flac\n",
      "/global/home/groups/fc_phonlab/miniconda3/envs/phonlab3.11/bin/sox /global/scratch/users/rsprouse/datasets/ceti/CETIdata/2015/sw078b001.flac /global/scratch/users/rsprouse/datasets/ceti/CETIdata/2015/sw078b002.flac /global/scratch/users/rsprouse/datasets/ceti/CETIdata/2015/sw078b003.flac /global/scratch/users/rsprouse/datasets/ceti/CETIdata/2015/sw078b.flac\n",
      "/global/home/groups/fc_phonlab/miniconda3/envs/phonlab3.11/bin/sox /global/scratch/users/rsprouse/datasets/ceti/CETIdata/2015/sw078c001.flac /global/scratch/users/rsprouse/datasets/ceti/CETIdata/2015/sw078c002.flac /global/scratch/users/rsprouse/datasets/ceti/CETIdata/2015/sw078c003.flac /global/scratch/users/rsprouse/datasets/ceti/CETIdata/2015/sw078c004.flac /global/scratch/users/rsprouse/datasets/ceti/CETIdata/2015/sw078c005.flac /global/scratch/users/rsprouse/datasets/ceti/CETIdata/2015/sw078c006.flac /global/scratch/users/rsprouse/datasets/ceti/CETIdata/2015/sw078c007.flac /global/scratch/users/rsprouse/datasets/ceti/CETIdata/2015/sw078c.flac\n",
      "/global/home/groups/fc_phonlab/miniconda3/envs/phonlab3.11/bin/sox /global/scratch/users/rsprouse/datasets/ceti/CETIdata/2015/sw078d001.flac /global/scratch/users/rsprouse/datasets/ceti/CETIdata/2015/sw078d002.flac /global/scratch/users/rsprouse/datasets/ceti/CETIdata/2015/sw078d003.flac /global/scratch/users/rsprouse/datasets/ceti/CETIdata/2015/sw078d004.flac /global/scratch/users/rsprouse/datasets/ceti/CETIdata/2015/sw078d005.flac /global/scratch/users/rsprouse/datasets/ceti/CETIdata/2015/sw078d006.flac /global/scratch/users/rsprouse/datasets/ceti/CETIdata/2015/sw078d007.flac /global/scratch/users/rsprouse/datasets/ceti/CETIdata/2015/sw078d008.flac /global/scratch/users/rsprouse/datasets/ceti/CETIdata/2015/sw078d009.flac /global/scratch/users/rsprouse/datasets/ceti/CETIdata/2015/sw078d010.flac /global/scratch/users/rsprouse/datasets/ceti/CETIdata/2015/sw078d011.flac /global/scratch/users/rsprouse/datasets/ceti/CETIdata/2015/sw078d012.flac /global/scratch/users/rsprouse/datasets/ceti/CETIdata/2015/sw078d.flac\n",
      "/global/home/groups/fc_phonlab/miniconda3/envs/phonlab3.11/bin/sox /global/scratch/users/rsprouse/datasets/ceti/CETIdata/2015/sw081a001.flac /global/scratch/users/rsprouse/datasets/ceti/CETIdata/2015/sw081a002.flac /global/scratch/users/rsprouse/datasets/ceti/CETIdata/2015/sw081a003.flac /global/scratch/users/rsprouse/datasets/ceti/CETIdata/2015/sw081a004.flac /global/scratch/users/rsprouse/datasets/ceti/CETIdata/2015/sw081a.flac\n",
      "/global/home/groups/fc_phonlab/miniconda3/envs/phonlab3.11/bin/sox /global/scratch/users/rsprouse/datasets/ceti/CETIdata/2015/sw085a001.flac /global/scratch/users/rsprouse/datasets/ceti/CETIdata/2015/sw085a002.flac /global/scratch/users/rsprouse/datasets/ceti/CETIdata/2015/sw085a003.flac /global/scratch/users/rsprouse/datasets/ceti/CETIdata/2015/sw085a004.flac /global/scratch/users/rsprouse/datasets/ceti/CETIdata/2015/sw085a005.flac /global/scratch/users/rsprouse/datasets/ceti/CETIdata/2015/sw085a.flac\n",
      "/global/home/groups/fc_phonlab/miniconda3/envs/phonlab3.11/bin/sox /global/scratch/users/rsprouse/datasets/ceti/CETIdata/2015/sw090a001.flac /global/scratch/users/rsprouse/datasets/ceti/CETIdata/2015/sw090a002.flac /global/scratch/users/rsprouse/datasets/ceti/CETIdata/2015/sw090a003.flac /global/scratch/users/rsprouse/datasets/ceti/CETIdata/2015/sw090a004.flac /global/scratch/users/rsprouse/datasets/ceti/CETIdata/2015/sw090a005.flac /global/scratch/users/rsprouse/datasets/ceti/CETIdata/2015/sw090a.flac\n",
      "/global/home/groups/fc_phonlab/miniconda3/envs/phonlab3.11/bin/sox /global/scratch/users/rsprouse/datasets/ceti/CETIdata/2015/sw090b001.flac /global/scratch/users/rsprouse/datasets/ceti/CETIdata/2015/sw090b002.flac /global/scratch/users/rsprouse/datasets/ceti/CETIdata/2015/sw090b003.flac /global/scratch/users/rsprouse/datasets/ceti/CETIdata/2015/sw090b004.flac /global/scratch/users/rsprouse/datasets/ceti/CETIdata/2015/sw090b005.flac /global/scratch/users/rsprouse/datasets/ceti/CETIdata/2015/sw090b.flac\n",
      "/global/home/groups/fc_phonlab/miniconda3/envs/phonlab3.11/bin/sox /global/scratch/users/rsprouse/datasets/ceti/CETIdata/2015/sw090c001.flac /global/scratch/users/rsprouse/datasets/ceti/CETIdata/2015/sw090c002.flac /global/scratch/users/rsprouse/datasets/ceti/CETIdata/2015/sw090c003.flac /global/scratch/users/rsprouse/datasets/ceti/CETIdata/2015/sw090c004.flac /global/scratch/users/rsprouse/datasets/ceti/CETIdata/2015/sw090c005.flac /global/scratch/users/rsprouse/datasets/ceti/CETIdata/2015/sw090c006.flac /global/scratch/users/rsprouse/datasets/ceti/CETIdata/2015/sw090c.flac\n",
      "/global/home/groups/fc_phonlab/miniconda3/envs/phonlab3.11/bin/sox /global/scratch/users/rsprouse/datasets/ceti/CETIdata/2015/sw091a001.flac /global/scratch/users/rsprouse/datasets/ceti/CETIdata/2015/sw091a002.flac /global/scratch/users/rsprouse/datasets/ceti/CETIdata/2015/sw091a003.flac /global/scratch/users/rsprouse/datasets/ceti/CETIdata/2015/sw091a004.flac /global/scratch/users/rsprouse/datasets/ceti/CETIdata/2015/sw091a005.flac /global/scratch/users/rsprouse/datasets/ceti/CETIdata/2015/sw091a006.flac /global/scratch/users/rsprouse/datasets/ceti/CETIdata/2015/sw091a.flac\n",
      "/global/home/groups/fc_phonlab/miniconda3/envs/phonlab3.11/bin/sox /global/scratch/users/rsprouse/datasets/ceti/CETIdata/2015/sw091b001.flac /global/scratch/users/rsprouse/datasets/ceti/CETIdata/2015/sw091b002.flac /global/scratch/users/rsprouse/datasets/ceti/CETIdata/2015/sw091b003.flac /global/scratch/users/rsprouse/datasets/ceti/CETIdata/2015/sw091b004.flac /global/scratch/users/rsprouse/datasets/ceti/CETIdata/2015/sw091b005.flac /global/scratch/users/rsprouse/datasets/ceti/CETIdata/2015/sw091b.flac\n",
      "/global/home/groups/fc_phonlab/miniconda3/envs/phonlab3.11/bin/sox /global/scratch/users/rsprouse/datasets/ceti/CETIdata/2014/sw092a001.flac /global/scratch/users/rsprouse/datasets/ceti/CETIdata/2014/sw092a002.flac /global/scratch/users/rsprouse/datasets/ceti/CETIdata/2014/sw092a.flac\n",
      "/global/home/groups/fc_phonlab/miniconda3/envs/phonlab3.11/bin/sox /global/scratch/users/rsprouse/datasets/ceti/CETIdata/2015/sw097a001.flac /global/scratch/users/rsprouse/datasets/ceti/CETIdata/2015/sw097a002.flac /global/scratch/users/rsprouse/datasets/ceti/CETIdata/2015/sw097a003.flac /global/scratch/users/rsprouse/datasets/ceti/CETIdata/2015/sw097a004.flac /global/scratch/users/rsprouse/datasets/ceti/CETIdata/2015/sw097a.flac\n",
      "/global/home/groups/fc_phonlab/miniconda3/envs/phonlab3.11/bin/sox /global/scratch/users/rsprouse/datasets/ceti/CETIdata/2015/sw100a001.flac /global/scratch/users/rsprouse/datasets/ceti/CETIdata/2015/sw100a002.flac /global/scratch/users/rsprouse/datasets/ceti/CETIdata/2015/sw100a003.flac /global/scratch/users/rsprouse/datasets/ceti/CETIdata/2015/sw100a.flac\n",
      "/global/home/groups/fc_phonlab/miniconda3/envs/phonlab3.11/bin/sox /global/scratch/users/rsprouse/datasets/ceti/CETIdata/2015/sw100b001.flac /global/scratch/users/rsprouse/datasets/ceti/CETIdata/2015/sw100b002.flac /global/scratch/users/rsprouse/datasets/ceti/CETIdata/2015/sw100b003.flac /global/scratch/users/rsprouse/datasets/ceti/CETIdata/2015/sw100b004.flac /global/scratch/users/rsprouse/datasets/ceti/CETIdata/2015/sw100b005.flac /global/scratch/users/rsprouse/datasets/ceti/CETIdata/2015/sw100b006.flac /global/scratch/users/rsprouse/datasets/ceti/CETIdata/2015/sw100b.flac\n",
      "/global/home/groups/fc_phonlab/miniconda3/envs/phonlab3.11/bin/sox /global/scratch/users/rsprouse/datasets/ceti/CETIdata/2016/sw103a001.flac /global/scratch/users/rsprouse/datasets/ceti/CETIdata/2016/sw103a002.flac /global/scratch/users/rsprouse/datasets/ceti/CETIdata/2016/sw103a003.flac /global/scratch/users/rsprouse/datasets/ceti/CETIdata/2016/sw103a004.flac /global/scratch/users/rsprouse/datasets/ceti/CETIdata/2016/sw103a005.flac /global/scratch/users/rsprouse/datasets/ceti/CETIdata/2016/sw103a006.flac /global/scratch/users/rsprouse/datasets/ceti/CETIdata/2016/sw103a007.flac /global/scratch/users/rsprouse/datasets/ceti/CETIdata/2016/sw103a008.flac /global/scratch/users/rsprouse/datasets/ceti/CETIdata/2016/sw103a009.flac /global/scratch/users/rsprouse/datasets/ceti/CETIdata/2016/sw103a010.flac /global/scratch/users/rsprouse/datasets/ceti/CETIdata/2016/sw103a011.flac /global/scratch/users/rsprouse/datasets/ceti/CETIdata/2016/sw103a012.flac /global/scratch/users/rsprouse/datasets/ceti/CETIdata/2016/sw103a.flac\n",
      "/global/home/groups/fc_phonlab/miniconda3/envs/phonlab3.11/bin/sox /global/scratch/users/rsprouse/datasets/ceti/CETIdata/2014/sw106a001.flac /global/scratch/users/rsprouse/datasets/ceti/CETIdata/2014/sw106a002.flac /global/scratch/users/rsprouse/datasets/ceti/CETIdata/2014/sw106a003.flac /global/scratch/users/rsprouse/datasets/ceti/CETIdata/2014/sw106a004.flac /global/scratch/users/rsprouse/datasets/ceti/CETIdata/2014/sw106a.flac\n",
      "/global/home/groups/fc_phonlab/miniconda3/envs/phonlab3.11/bin/sox /global/scratch/users/rsprouse/datasets/ceti/CETIdata/2014/sw106b001.flac /global/scratch/users/rsprouse/datasets/ceti/CETIdata/2014/sw106b002.flac /global/scratch/users/rsprouse/datasets/ceti/CETIdata/2014/sw106b003.flac /global/scratch/users/rsprouse/datasets/ceti/CETIdata/2014/sw106b004.flac /global/scratch/users/rsprouse/datasets/ceti/CETIdata/2014/sw106b005.flac /global/scratch/users/rsprouse/datasets/ceti/CETIdata/2014/sw106b.flac\n",
      "/global/home/groups/fc_phonlab/miniconda3/envs/phonlab3.11/bin/sox /global/scratch/users/rsprouse/datasets/ceti/CETIdata/2014/sw114a001.flac /global/scratch/users/rsprouse/datasets/ceti/CETIdata/2014/sw114a002.flac /global/scratch/users/rsprouse/datasets/ceti/CETIdata/2014/sw114a003.flac /global/scratch/users/rsprouse/datasets/ceti/CETIdata/2014/sw114a004.flac /global/scratch/users/rsprouse/datasets/ceti/CETIdata/2014/sw114a005.flac /global/scratch/users/rsprouse/datasets/ceti/CETIdata/2014/sw114a.flac\n",
      "/global/home/groups/fc_phonlab/miniconda3/envs/phonlab3.11/bin/sox /global/scratch/users/rsprouse/datasets/ceti/CETIdata/2014/sw114b001.flac /global/scratch/users/rsprouse/datasets/ceti/CETIdata/2014/sw114b002.flac /global/scratch/users/rsprouse/datasets/ceti/CETIdata/2014/sw114b003.flac /global/scratch/users/rsprouse/datasets/ceti/CETIdata/2014/sw114b004.flac /global/scratch/users/rsprouse/datasets/ceti/CETIdata/2014/sw114b005.flac /global/scratch/users/rsprouse/datasets/ceti/CETIdata/2014/sw114b.flac\n",
      "/global/home/groups/fc_phonlab/miniconda3/envs/phonlab3.11/bin/sox /global/scratch/users/rsprouse/datasets/ceti/CETIdata/2016/sw115a001.flac /global/scratch/users/rsprouse/datasets/ceti/CETIdata/2016/sw115a002.flac /global/scratch/users/rsprouse/datasets/ceti/CETIdata/2016/sw115a003.flac /global/scratch/users/rsprouse/datasets/ceti/CETIdata/2016/sw115a004.flac /global/scratch/users/rsprouse/datasets/ceti/CETIdata/2016/sw115a005.flac /global/scratch/users/rsprouse/datasets/ceti/CETIdata/2016/sw115a006.flac /global/scratch/users/rsprouse/datasets/ceti/CETIdata/2016/sw115a007.flac /global/scratch/users/rsprouse/datasets/ceti/CETIdata/2016/sw115a008.flac /global/scratch/users/rsprouse/datasets/ceti/CETIdata/2016/sw115a009.flac /global/scratch/users/rsprouse/datasets/ceti/CETIdata/2016/sw115a010.flac /global/scratch/users/rsprouse/datasets/ceti/CETIdata/2016/sw115a011.flac /global/scratch/users/rsprouse/datasets/ceti/CETIdata/2016/sw115a012.flac /global/scratch/users/rsprouse/datasets/ceti/CETIdata/2016/sw115a.flac\n",
      "/global/home/groups/fc_phonlab/miniconda3/envs/phonlab3.11/bin/sox /global/scratch/users/rsprouse/datasets/ceti/CETIdata/2016/sw115b001.flac /global/scratch/users/rsprouse/datasets/ceti/CETIdata/2016/sw115b002.flac /global/scratch/users/rsprouse/datasets/ceti/CETIdata/2016/sw115b.flac\n",
      "/global/home/groups/fc_phonlab/miniconda3/envs/phonlab3.11/bin/sox /global/scratch/users/rsprouse/datasets/ceti/CETIdata/2014/sw119a001.flac /global/scratch/users/rsprouse/datasets/ceti/CETIdata/2014/sw119a002.flac /global/scratch/users/rsprouse/datasets/ceti/CETIdata/2014/sw119a003.flac /global/scratch/users/rsprouse/datasets/ceti/CETIdata/2014/sw119a004.flac /global/scratch/users/rsprouse/datasets/ceti/CETIdata/2014/sw119a005.flac /global/scratch/users/rsprouse/datasets/ceti/CETIdata/2014/sw119a.flac\n",
      "/global/home/groups/fc_phonlab/miniconda3/envs/phonlab3.11/bin/sox /global/scratch/users/rsprouse/datasets/ceti/CETIdata/2014/sw119b001.flac /global/scratch/users/rsprouse/datasets/ceti/CETIdata/2014/sw119b002.flac /global/scratch/users/rsprouse/datasets/ceti/CETIdata/2014/sw119b003.flac /global/scratch/users/rsprouse/datasets/ceti/CETIdata/2014/sw119b004.flac /global/scratch/users/rsprouse/datasets/ceti/CETIdata/2014/sw119b005.flac /global/scratch/users/rsprouse/datasets/ceti/CETIdata/2014/sw119b.flac\n",
      "/global/home/groups/fc_phonlab/miniconda3/envs/phonlab3.11/bin/sox /global/scratch/users/rsprouse/datasets/ceti/CETIdata/2016/sw133a001.flac /global/scratch/users/rsprouse/datasets/ceti/CETIdata/2016/sw133a002.flac /global/scratch/users/rsprouse/datasets/ceti/CETIdata/2016/sw133a003.flac /global/scratch/users/rsprouse/datasets/ceti/CETIdata/2016/sw133a004.flac /global/scratch/users/rsprouse/datasets/ceti/CETIdata/2016/sw133a005.flac /global/scratch/users/rsprouse/datasets/ceti/CETIdata/2016/sw133a.flac\n",
      "/global/home/groups/fc_phonlab/miniconda3/envs/phonlab3.11/bin/sox /global/scratch/users/rsprouse/datasets/ceti/CETIdata/2016/sw133b001.flac /global/scratch/users/rsprouse/datasets/ceti/CETIdata/2016/sw133b002.flac /global/scratch/users/rsprouse/datasets/ceti/CETIdata/2016/sw133b003.flac /global/scratch/users/rsprouse/datasets/ceti/CETIdata/2016/sw133b004.flac /global/scratch/users/rsprouse/datasets/ceti/CETIdata/2016/sw133b005.flac /global/scratch/users/rsprouse/datasets/ceti/CETIdata/2016/sw133b.flac\n",
      "/global/home/groups/fc_phonlab/miniconda3/envs/phonlab3.11/bin/sox /global/scratch/users/rsprouse/datasets/ceti/CETIdata/2016/sw134a001.flac /global/scratch/users/rsprouse/datasets/ceti/CETIdata/2016/sw134a002.flac /global/scratch/users/rsprouse/datasets/ceti/CETIdata/2016/sw134a003.flac /global/scratch/users/rsprouse/datasets/ceti/CETIdata/2016/sw134a004.flac /global/scratch/users/rsprouse/datasets/ceti/CETIdata/2016/sw134a005.flac /global/scratch/users/rsprouse/datasets/ceti/CETIdata/2016/sw134a.flac\n",
      "/global/home/groups/fc_phonlab/miniconda3/envs/phonlab3.11/bin/sox /global/scratch/users/rsprouse/datasets/ceti/CETIdata/2018/sw140a001.flac /global/scratch/users/rsprouse/datasets/ceti/CETIdata/2018/sw140a002.flac /global/scratch/users/rsprouse/datasets/ceti/CETIdata/2018/sw140a003.flac /global/scratch/users/rsprouse/datasets/ceti/CETIdata/2018/sw140a004.flac /global/scratch/users/rsprouse/datasets/ceti/CETIdata/2018/sw140a005.flac /global/scratch/users/rsprouse/datasets/ceti/CETIdata/2018/sw140a006.flac /global/scratch/users/rsprouse/datasets/ceti/CETIdata/2018/sw140a.flac\n",
      "/global/home/groups/fc_phonlab/miniconda3/envs/phonlab3.11/bin/sox /global/scratch/users/rsprouse/datasets/ceti/CETIdata/2018/sw140b001.flac /global/scratch/users/rsprouse/datasets/ceti/CETIdata/2018/sw140b002.flac /global/scratch/users/rsprouse/datasets/ceti/CETIdata/2018/sw140b003.flac /global/scratch/users/rsprouse/datasets/ceti/CETIdata/2018/sw140b004.flac /global/scratch/users/rsprouse/datasets/ceti/CETIdata/2018/sw140b005.flac /global/scratch/users/rsprouse/datasets/ceti/CETIdata/2018/sw140b006.flac /global/scratch/users/rsprouse/datasets/ceti/CETIdata/2018/sw140b007.flac /global/scratch/users/rsprouse/datasets/ceti/CETIdata/2018/sw140b008.flac /global/scratch/users/rsprouse/datasets/ceti/CETIdata/2018/sw140b.flac\n",
      "/global/home/groups/fc_phonlab/miniconda3/envs/phonlab3.11/bin/sox /global/scratch/users/rsprouse/datasets/ceti/CETIdata/2018/sw143a001.flac /global/scratch/users/rsprouse/datasets/ceti/CETIdata/2018/sw143a002.flac /global/scratch/users/rsprouse/datasets/ceti/CETIdata/2018/sw143a003.flac /global/scratch/users/rsprouse/datasets/ceti/CETIdata/2018/sw143a004.flac /global/scratch/users/rsprouse/datasets/ceti/CETIdata/2018/sw143a005.flac /global/scratch/users/rsprouse/datasets/ceti/CETIdata/2018/sw143a006.flac /global/scratch/users/rsprouse/datasets/ceti/CETIdata/2018/sw143a007.flac /global/scratch/users/rsprouse/datasets/ceti/CETIdata/2018/sw143a008.flac /global/scratch/users/rsprouse/datasets/ceti/CETIdata/2018/sw143a.flac\n",
      "/global/home/groups/fc_phonlab/miniconda3/envs/phonlab3.11/bin/sox /global/scratch/users/rsprouse/datasets/ceti/CETIdata/2018/sw18136a001.flac /global/scratch/users/rsprouse/datasets/ceti/CETIdata/2018/sw18136a002.flac /global/scratch/users/rsprouse/datasets/ceti/CETIdata/2018/sw18136a.flac\n"
     ]
    },
    {
     "data": {
      "text/html": [
       "<div>\n",
       "<style scoped>\n",
       "    .dataframe tbody tr th:only-of-type {\n",
       "        vertical-align: middle;\n",
       "    }\n",
       "\n",
       "    .dataframe tbody tr th {\n",
       "        vertical-align: top;\n",
       "    }\n",
       "\n",
       "    .dataframe thead th {\n",
       "        text-align: right;\n",
       "    }\n",
       "</style>\n",
       "<table border=\"1\" class=\"dataframe\">\n",
       "  <thead>\n",
       "    <tr style=\"text-align: right;\">\n",
       "      <th></th>\n",
       "    </tr>\n",
       "  </thead>\n",
       "  <tbody>\n",
       "  </tbody>\n",
       "</table>\n",
       "</div>"
      ],
      "text/plain": [
       "Empty DataFrame\n",
       "Columns: []\n",
       "Index: []"
      ]
     },
     "execution_count": 37,
     "metadata": {},
     "output_type": "execute_result"
    }
   ],
   "source": [
    "flacdf.groupby('tag').apply(\n",
    "    lambda x: print(\n",
    "        ' '.join(\n",
    "            ['/global/home/groups/fc_phonlab/miniconda3/envs/phonlab3.11/bin/sox'] + \\\n",
    "            [str(flacdir / x.iloc[0]['relpath'] / fn) for fn in x['fname']] + \\\n",
    "            [f\"{flacdir / x.iloc[0]['relpath'] / x.iloc[0]['fname'].replace('001.flac', '.flac')}\"]\n",
    "        )\n",
    "    )\n",
    ")"
   ]
  },
  {
   "cell_type": "code",
   "execution_count": 25,
   "id": "54ce3c9b",
   "metadata": {},
   "outputs": [
    {
     "ename": "KeyboardInterrupt",
     "evalue": "",
     "output_type": "error",
     "traceback": [
      "\u001b[0;31m---------------------------------------------------------------------------\u001b[0m",
      "\u001b[0;31mKeyboardInterrupt\u001b[0m                         Traceback (most recent call last)",
      "Cell \u001b[0;32mIn[25], line 1\u001b[0m\n\u001b[0;32m----> 1\u001b[0m \u001b[43mflacdf\u001b[49m\u001b[38;5;241;43m.\u001b[39;49m\u001b[43mgroupby\u001b[49m\u001b[43m(\u001b[49m\u001b[38;5;124;43m'\u001b[39;49m\u001b[38;5;124;43mtag\u001b[39;49m\u001b[38;5;124;43m'\u001b[39;49m\u001b[43m)\u001b[49m\u001b[38;5;241;43m.\u001b[39;49m\u001b[43mapply\u001b[49m\u001b[43m(\u001b[49m\n\u001b[1;32m      2\u001b[0m \u001b[43m    \u001b[49m\u001b[38;5;28;43;01mlambda\u001b[39;49;00m\u001b[43m \u001b[49m\u001b[43mx\u001b[49m\u001b[43m:\u001b[49m\u001b[43m \u001b[49m\u001b[43msubprocess\u001b[49m\u001b[38;5;241;43m.\u001b[39;49m\u001b[43mrun\u001b[49m\u001b[43m(\u001b[49m\n\u001b[1;32m      3\u001b[0m \u001b[43m        \u001b[49m\u001b[43m[\u001b[49m\n\u001b[1;32m      4\u001b[0m \u001b[43m            \u001b[49m\u001b[38;5;124;43m'\u001b[39;49m\u001b[38;5;124;43m/global/home/groups/fc_phonlab/miniconda3/envs/phonlab3.11/bin/sox\u001b[39;49m\u001b[38;5;124;43m'\u001b[39;49m\u001b[43m]\u001b[49m\u001b[43m \u001b[49m\u001b[38;5;241;43m+\u001b[39;49m\u001b[43m \u001b[49m\u001b[43m\\\u001b[49m\n\u001b[1;32m      5\u001b[0m \u001b[43m            \u001b[49m\u001b[38;5;28;43mlist\u001b[39;49m\u001b[43m(\u001b[49m\u001b[43mx\u001b[49m\u001b[43m[\u001b[49m\u001b[38;5;124;43m'\u001b[39;49m\u001b[38;5;124;43mfname\u001b[39;49m\u001b[38;5;124;43m'\u001b[39;49m\u001b[43m]\u001b[49m\u001b[43m)\u001b[49m\u001b[43m \u001b[49m\u001b[38;5;241;43m+\u001b[39;49m\u001b[43m \u001b[49m\u001b[43m\\\u001b[49m\n\u001b[1;32m      6\u001b[0m \u001b[43m            \u001b[49m\u001b[43m[\u001b[49m\u001b[38;5;124;43mf\u001b[39;49m\u001b[38;5;124;43m\"\u001b[39;49m\u001b[38;5;132;43;01m{\u001b[39;49;00m\u001b[43mx\u001b[49m\u001b[38;5;241;43m.\u001b[39;49m\u001b[43miloc\u001b[49m\u001b[43m[\u001b[49m\u001b[38;5;241;43m0\u001b[39;49m\u001b[43m]\u001b[49m\u001b[43m[\u001b[49m\u001b[38;5;124;43m'\u001b[39;49m\u001b[38;5;124;43mtag\u001b[39;49m\u001b[38;5;124;43m'\u001b[39;49m\u001b[43m]\u001b[49m\u001b[38;5;132;43;01m}\u001b[39;49;00m\u001b[38;5;124;43m.flac\u001b[39;49m\u001b[38;5;124;43m\"\u001b[39;49m\n\u001b[1;32m      7\u001b[0m \u001b[43m        \u001b[49m\u001b[43m]\u001b[49m\u001b[43m,\u001b[49m\n\u001b[1;32m      8\u001b[0m \u001b[43m        \u001b[49m\u001b[43mcwd\u001b[49m\u001b[38;5;241;43m=\u001b[39;49m\u001b[43mflacdir\u001b[49m\u001b[43m \u001b[49m\u001b[38;5;241;43m/\u001b[39;49m\u001b[43m \u001b[49m\u001b[43mx\u001b[49m\u001b[38;5;241;43m.\u001b[39;49m\u001b[43miloc\u001b[49m\u001b[43m[\u001b[49m\u001b[38;5;241;43m0\u001b[39;49m\u001b[43m]\u001b[49m\u001b[43m[\u001b[49m\u001b[38;5;124;43m'\u001b[39;49m\u001b[38;5;124;43mrelpath\u001b[39;49m\u001b[38;5;124;43m'\u001b[39;49m\u001b[43m]\u001b[49m\n\u001b[1;32m      9\u001b[0m \u001b[43m    \u001b[49m\u001b[43m)\u001b[49m\n\u001b[1;32m     10\u001b[0m \u001b[43m)\u001b[49m\n",
      "File \u001b[0;32m/global/home/groups/fc_phonlab/miniconda3/envs/phonlab3.11/lib/python3.11/site-packages/pandas/core/groupby/groupby.py:1353\u001b[0m, in \u001b[0;36mGroupBy.apply\u001b[0;34m(self, func, *args, **kwargs)\u001b[0m\n\u001b[1;32m   1351\u001b[0m \u001b[38;5;28;01mwith\u001b[39;00m option_context(\u001b[38;5;124m\"\u001b[39m\u001b[38;5;124mmode.chained_assignment\u001b[39m\u001b[38;5;124m\"\u001b[39m, \u001b[38;5;28;01mNone\u001b[39;00m):\n\u001b[1;32m   1352\u001b[0m     \u001b[38;5;28;01mtry\u001b[39;00m:\n\u001b[0;32m-> 1353\u001b[0m         result \u001b[38;5;241m=\u001b[39m \u001b[38;5;28;43mself\u001b[39;49m\u001b[38;5;241;43m.\u001b[39;49m\u001b[43m_python_apply_general\u001b[49m\u001b[43m(\u001b[49m\u001b[43mf\u001b[49m\u001b[43m,\u001b[49m\u001b[43m \u001b[49m\u001b[38;5;28;43mself\u001b[39;49m\u001b[38;5;241;43m.\u001b[39;49m\u001b[43m_selected_obj\u001b[49m\u001b[43m)\u001b[49m\n\u001b[1;32m   1354\u001b[0m     \u001b[38;5;28;01mexcept\u001b[39;00m \u001b[38;5;167;01mTypeError\u001b[39;00m:\n\u001b[1;32m   1355\u001b[0m         \u001b[38;5;66;03m# gh-20949\u001b[39;00m\n\u001b[1;32m   1356\u001b[0m         \u001b[38;5;66;03m# try again, with .apply acting as a filtering\u001b[39;00m\n\u001b[0;32m   (...)\u001b[0m\n\u001b[1;32m   1360\u001b[0m         \u001b[38;5;66;03m# fails on *some* columns, e.g. a numeric operation\u001b[39;00m\n\u001b[1;32m   1361\u001b[0m         \u001b[38;5;66;03m# on a string grouper column\u001b[39;00m\n\u001b[1;32m   1363\u001b[0m         \u001b[38;5;28;01mreturn\u001b[39;00m \u001b[38;5;28mself\u001b[39m\u001b[38;5;241m.\u001b[39m_python_apply_general(f, \u001b[38;5;28mself\u001b[39m\u001b[38;5;241m.\u001b[39m_obj_with_exclusions)\n",
      "File \u001b[0;32m/global/home/groups/fc_phonlab/miniconda3/envs/phonlab3.11/lib/python3.11/site-packages/pandas/core/groupby/groupby.py:1402\u001b[0m, in \u001b[0;36mGroupBy._python_apply_general\u001b[0;34m(self, f, data, not_indexed_same, is_transform, is_agg)\u001b[0m\n\u001b[1;32m   1367\u001b[0m \u001b[38;5;129m@final\u001b[39m\n\u001b[1;32m   1368\u001b[0m \u001b[38;5;28;01mdef\u001b[39;00m \u001b[38;5;21m_python_apply_general\u001b[39m(\n\u001b[1;32m   1369\u001b[0m     \u001b[38;5;28mself\u001b[39m,\n\u001b[0;32m   (...)\u001b[0m\n\u001b[1;32m   1374\u001b[0m     is_agg: \u001b[38;5;28mbool\u001b[39m \u001b[38;5;241m=\u001b[39m \u001b[38;5;28;01mFalse\u001b[39;00m,\n\u001b[1;32m   1375\u001b[0m ) \u001b[38;5;241m-\u001b[39m\u001b[38;5;241m>\u001b[39m NDFrameT:\n\u001b[1;32m   1376\u001b[0m \u001b[38;5;250m    \u001b[39m\u001b[38;5;124;03m\"\"\"\u001b[39;00m\n\u001b[1;32m   1377\u001b[0m \u001b[38;5;124;03m    Apply function f in python space\u001b[39;00m\n\u001b[1;32m   1378\u001b[0m \n\u001b[0;32m   (...)\u001b[0m\n\u001b[1;32m   1400\u001b[0m \u001b[38;5;124;03m        data after applying f\u001b[39;00m\n\u001b[1;32m   1401\u001b[0m \u001b[38;5;124;03m    \"\"\"\u001b[39;00m\n\u001b[0;32m-> 1402\u001b[0m     values, mutated \u001b[38;5;241m=\u001b[39m \u001b[38;5;28;43mself\u001b[39;49m\u001b[38;5;241;43m.\u001b[39;49m\u001b[43mgrouper\u001b[49m\u001b[38;5;241;43m.\u001b[39;49m\u001b[43mapply\u001b[49m\u001b[43m(\u001b[49m\u001b[43mf\u001b[49m\u001b[43m,\u001b[49m\u001b[43m \u001b[49m\u001b[43mdata\u001b[49m\u001b[43m,\u001b[49m\u001b[43m \u001b[49m\u001b[38;5;28;43mself\u001b[39;49m\u001b[38;5;241;43m.\u001b[39;49m\u001b[43maxis\u001b[49m\u001b[43m)\u001b[49m\n\u001b[1;32m   1403\u001b[0m     \u001b[38;5;28;01mif\u001b[39;00m not_indexed_same \u001b[38;5;129;01mis\u001b[39;00m \u001b[38;5;28;01mNone\u001b[39;00m:\n\u001b[1;32m   1404\u001b[0m         not_indexed_same \u001b[38;5;241m=\u001b[39m mutated\n",
      "File \u001b[0;32m/global/home/groups/fc_phonlab/miniconda3/envs/phonlab3.11/lib/python3.11/site-packages/pandas/core/groupby/ops.py:767\u001b[0m, in \u001b[0;36mBaseGrouper.apply\u001b[0;34m(self, f, data, axis)\u001b[0m\n\u001b[1;32m    765\u001b[0m \u001b[38;5;66;03m# group might be modified\u001b[39;00m\n\u001b[1;32m    766\u001b[0m group_axes \u001b[38;5;241m=\u001b[39m group\u001b[38;5;241m.\u001b[39maxes\n\u001b[0;32m--> 767\u001b[0m res \u001b[38;5;241m=\u001b[39m \u001b[43mf\u001b[49m\u001b[43m(\u001b[49m\u001b[43mgroup\u001b[49m\u001b[43m)\u001b[49m\n\u001b[1;32m    768\u001b[0m \u001b[38;5;28;01mif\u001b[39;00m \u001b[38;5;129;01mnot\u001b[39;00m mutated \u001b[38;5;129;01mand\u001b[39;00m \u001b[38;5;129;01mnot\u001b[39;00m _is_indexed_like(res, group_axes, axis):\n\u001b[1;32m    769\u001b[0m     mutated \u001b[38;5;241m=\u001b[39m \u001b[38;5;28;01mTrue\u001b[39;00m\n",
      "Cell \u001b[0;32mIn[25], line 2\u001b[0m, in \u001b[0;36m<lambda>\u001b[0;34m(x)\u001b[0m\n\u001b[1;32m      1\u001b[0m flacdf\u001b[38;5;241m.\u001b[39mgroupby(\u001b[38;5;124m'\u001b[39m\u001b[38;5;124mtag\u001b[39m\u001b[38;5;124m'\u001b[39m)\u001b[38;5;241m.\u001b[39mapply(\n\u001b[0;32m----> 2\u001b[0m     \u001b[38;5;28;01mlambda\u001b[39;00m x: \u001b[43msubprocess\u001b[49m\u001b[38;5;241;43m.\u001b[39;49m\u001b[43mrun\u001b[49m\u001b[43m(\u001b[49m\n\u001b[1;32m      3\u001b[0m \u001b[43m        \u001b[49m\u001b[43m[\u001b[49m\n\u001b[1;32m      4\u001b[0m \u001b[43m            \u001b[49m\u001b[38;5;124;43m'\u001b[39;49m\u001b[38;5;124;43m/global/home/groups/fc_phonlab/miniconda3/envs/phonlab3.11/bin/sox\u001b[39;49m\u001b[38;5;124;43m'\u001b[39;49m\u001b[43m]\u001b[49m\u001b[43m \u001b[49m\u001b[38;5;241;43m+\u001b[39;49m\u001b[43m \u001b[49m\u001b[43m\\\u001b[49m\n\u001b[1;32m      5\u001b[0m \u001b[43m            \u001b[49m\u001b[38;5;28;43mlist\u001b[39;49m\u001b[43m(\u001b[49m\u001b[43mx\u001b[49m\u001b[43m[\u001b[49m\u001b[38;5;124;43m'\u001b[39;49m\u001b[38;5;124;43mfname\u001b[39;49m\u001b[38;5;124;43m'\u001b[39;49m\u001b[43m]\u001b[49m\u001b[43m)\u001b[49m\u001b[43m \u001b[49m\u001b[38;5;241;43m+\u001b[39;49m\u001b[43m \u001b[49m\u001b[43m\\\u001b[49m\n\u001b[1;32m      6\u001b[0m \u001b[43m            \u001b[49m\u001b[43m[\u001b[49m\u001b[38;5;124;43mf\u001b[39;49m\u001b[38;5;124;43m\"\u001b[39;49m\u001b[38;5;132;43;01m{\u001b[39;49;00m\u001b[43mx\u001b[49m\u001b[38;5;241;43m.\u001b[39;49m\u001b[43miloc\u001b[49m\u001b[43m[\u001b[49m\u001b[38;5;241;43m0\u001b[39;49m\u001b[43m]\u001b[49m\u001b[43m[\u001b[49m\u001b[38;5;124;43m'\u001b[39;49m\u001b[38;5;124;43mtag\u001b[39;49m\u001b[38;5;124;43m'\u001b[39;49m\u001b[43m]\u001b[49m\u001b[38;5;132;43;01m}\u001b[39;49;00m\u001b[38;5;124;43m.flac\u001b[39;49m\u001b[38;5;124;43m\"\u001b[39;49m\n\u001b[1;32m      7\u001b[0m \u001b[43m        \u001b[49m\u001b[43m]\u001b[49m\u001b[43m,\u001b[49m\n\u001b[1;32m      8\u001b[0m \u001b[43m        \u001b[49m\u001b[43mcwd\u001b[49m\u001b[38;5;241;43m=\u001b[39;49m\u001b[43mflacdir\u001b[49m\u001b[43m \u001b[49m\u001b[38;5;241;43m/\u001b[39;49m\u001b[43m \u001b[49m\u001b[43mx\u001b[49m\u001b[38;5;241;43m.\u001b[39;49m\u001b[43miloc\u001b[49m\u001b[43m[\u001b[49m\u001b[38;5;241;43m0\u001b[39;49m\u001b[43m]\u001b[49m\u001b[43m[\u001b[49m\u001b[38;5;124;43m'\u001b[39;49m\u001b[38;5;124;43mrelpath\u001b[39;49m\u001b[38;5;124;43m'\u001b[39;49m\u001b[43m]\u001b[49m\n\u001b[1;32m      9\u001b[0m \u001b[43m    \u001b[49m\u001b[43m)\u001b[49m\n\u001b[1;32m     10\u001b[0m )\n",
      "File \u001b[0;32m/global/home/groups/fc_phonlab/miniconda3/envs/phonlab3.11/lib/python3.11/subprocess.py:550\u001b[0m, in \u001b[0;36mrun\u001b[0;34m(input, capture_output, timeout, check, *popenargs, **kwargs)\u001b[0m\n\u001b[1;32m    548\u001b[0m \u001b[38;5;28;01mwith\u001b[39;00m Popen(\u001b[38;5;241m*\u001b[39mpopenargs, \u001b[38;5;241m*\u001b[39m\u001b[38;5;241m*\u001b[39mkwargs) \u001b[38;5;28;01mas\u001b[39;00m process:\n\u001b[1;32m    549\u001b[0m     \u001b[38;5;28;01mtry\u001b[39;00m:\n\u001b[0;32m--> 550\u001b[0m         stdout, stderr \u001b[38;5;241m=\u001b[39m \u001b[43mprocess\u001b[49m\u001b[38;5;241;43m.\u001b[39;49m\u001b[43mcommunicate\u001b[49m\u001b[43m(\u001b[49m\u001b[38;5;28;43minput\u001b[39;49m\u001b[43m,\u001b[49m\u001b[43m \u001b[49m\u001b[43mtimeout\u001b[49m\u001b[38;5;241;43m=\u001b[39;49m\u001b[43mtimeout\u001b[49m\u001b[43m)\u001b[49m\n\u001b[1;32m    551\u001b[0m     \u001b[38;5;28;01mexcept\u001b[39;00m TimeoutExpired \u001b[38;5;28;01mas\u001b[39;00m exc:\n\u001b[1;32m    552\u001b[0m         process\u001b[38;5;241m.\u001b[39mkill()\n",
      "File \u001b[0;32m/global/home/groups/fc_phonlab/miniconda3/envs/phonlab3.11/lib/python3.11/subprocess.py:1201\u001b[0m, in \u001b[0;36mPopen.communicate\u001b[0;34m(self, input, timeout)\u001b[0m\n\u001b[1;32m   1199\u001b[0m         stderr \u001b[38;5;241m=\u001b[39m \u001b[38;5;28mself\u001b[39m\u001b[38;5;241m.\u001b[39mstderr\u001b[38;5;241m.\u001b[39mread()\n\u001b[1;32m   1200\u001b[0m         \u001b[38;5;28mself\u001b[39m\u001b[38;5;241m.\u001b[39mstderr\u001b[38;5;241m.\u001b[39mclose()\n\u001b[0;32m-> 1201\u001b[0m     \u001b[38;5;28;43mself\u001b[39;49m\u001b[38;5;241;43m.\u001b[39;49m\u001b[43mwait\u001b[49m\u001b[43m(\u001b[49m\u001b[43m)\u001b[49m\n\u001b[1;32m   1202\u001b[0m \u001b[38;5;28;01melse\u001b[39;00m:\n\u001b[1;32m   1203\u001b[0m     \u001b[38;5;28;01mif\u001b[39;00m timeout \u001b[38;5;129;01mis\u001b[39;00m \u001b[38;5;129;01mnot\u001b[39;00m \u001b[38;5;28;01mNone\u001b[39;00m:\n",
      "File \u001b[0;32m/global/home/groups/fc_phonlab/miniconda3/envs/phonlab3.11/lib/python3.11/subprocess.py:1264\u001b[0m, in \u001b[0;36mPopen.wait\u001b[0;34m(self, timeout)\u001b[0m\n\u001b[1;32m   1262\u001b[0m     endtime \u001b[38;5;241m=\u001b[39m _time() \u001b[38;5;241m+\u001b[39m timeout\n\u001b[1;32m   1263\u001b[0m \u001b[38;5;28;01mtry\u001b[39;00m:\n\u001b[0;32m-> 1264\u001b[0m     \u001b[38;5;28;01mreturn\u001b[39;00m \u001b[38;5;28;43mself\u001b[39;49m\u001b[38;5;241;43m.\u001b[39;49m\u001b[43m_wait\u001b[49m\u001b[43m(\u001b[49m\u001b[43mtimeout\u001b[49m\u001b[38;5;241;43m=\u001b[39;49m\u001b[43mtimeout\u001b[49m\u001b[43m)\u001b[49m\n\u001b[1;32m   1265\u001b[0m \u001b[38;5;28;01mexcept\u001b[39;00m \u001b[38;5;167;01mKeyboardInterrupt\u001b[39;00m:\n\u001b[1;32m   1266\u001b[0m     \u001b[38;5;66;03m# https://bugs.python.org/issue25942\u001b[39;00m\n\u001b[1;32m   1267\u001b[0m     \u001b[38;5;66;03m# The first keyboard interrupt waits briefly for the child to\u001b[39;00m\n\u001b[1;32m   1268\u001b[0m     \u001b[38;5;66;03m# exit under the common assumption that it also received the ^C\u001b[39;00m\n\u001b[1;32m   1269\u001b[0m     \u001b[38;5;66;03m# generated SIGINT and will exit rapidly.\u001b[39;00m\n\u001b[1;32m   1270\u001b[0m     \u001b[38;5;28;01mif\u001b[39;00m timeout \u001b[38;5;129;01mis\u001b[39;00m \u001b[38;5;129;01mnot\u001b[39;00m \u001b[38;5;28;01mNone\u001b[39;00m:\n",
      "File \u001b[0;32m/global/home/groups/fc_phonlab/miniconda3/envs/phonlab3.11/lib/python3.11/subprocess.py:2046\u001b[0m, in \u001b[0;36mPopen._wait\u001b[0;34m(self, timeout)\u001b[0m\n\u001b[1;32m   2044\u001b[0m \u001b[38;5;28;01mif\u001b[39;00m \u001b[38;5;28mself\u001b[39m\u001b[38;5;241m.\u001b[39mreturncode \u001b[38;5;129;01mis\u001b[39;00m \u001b[38;5;129;01mnot\u001b[39;00m \u001b[38;5;28;01mNone\u001b[39;00m:\n\u001b[1;32m   2045\u001b[0m     \u001b[38;5;28;01mbreak\u001b[39;00m  \u001b[38;5;66;03m# Another thread waited.\u001b[39;00m\n\u001b[0;32m-> 2046\u001b[0m (pid, sts) \u001b[38;5;241m=\u001b[39m \u001b[38;5;28;43mself\u001b[39;49m\u001b[38;5;241;43m.\u001b[39;49m\u001b[43m_try_wait\u001b[49m\u001b[43m(\u001b[49m\u001b[38;5;241;43m0\u001b[39;49m\u001b[43m)\u001b[49m\n\u001b[1;32m   2047\u001b[0m \u001b[38;5;66;03m# Check the pid and loop as waitpid has been known to\u001b[39;00m\n\u001b[1;32m   2048\u001b[0m \u001b[38;5;66;03m# return 0 even without WNOHANG in odd situations.\u001b[39;00m\n\u001b[1;32m   2049\u001b[0m \u001b[38;5;66;03m# http://bugs.python.org/issue14396.\u001b[39;00m\n\u001b[1;32m   2050\u001b[0m \u001b[38;5;28;01mif\u001b[39;00m pid \u001b[38;5;241m==\u001b[39m \u001b[38;5;28mself\u001b[39m\u001b[38;5;241m.\u001b[39mpid:\n",
      "File \u001b[0;32m/global/home/groups/fc_phonlab/miniconda3/envs/phonlab3.11/lib/python3.11/subprocess.py:2004\u001b[0m, in \u001b[0;36mPopen._try_wait\u001b[0;34m(self, wait_flags)\u001b[0m\n\u001b[1;32m   2002\u001b[0m \u001b[38;5;250m\u001b[39m\u001b[38;5;124;03m\"\"\"All callers to this function MUST hold self._waitpid_lock.\"\"\"\u001b[39;00m\n\u001b[1;32m   2003\u001b[0m \u001b[38;5;28;01mtry\u001b[39;00m:\n\u001b[0;32m-> 2004\u001b[0m     (pid, sts) \u001b[38;5;241m=\u001b[39m os\u001b[38;5;241m.\u001b[39mwaitpid(\u001b[38;5;28mself\u001b[39m\u001b[38;5;241m.\u001b[39mpid, wait_flags)\n\u001b[1;32m   2005\u001b[0m \u001b[38;5;28;01mexcept\u001b[39;00m \u001b[38;5;167;01mChildProcessError\u001b[39;00m:\n\u001b[1;32m   2006\u001b[0m     \u001b[38;5;66;03m# This happens if SIGCLD is set to be ignored or waiting\u001b[39;00m\n\u001b[1;32m   2007\u001b[0m     \u001b[38;5;66;03m# for child processes has otherwise been disabled for our\u001b[39;00m\n\u001b[1;32m   2008\u001b[0m     \u001b[38;5;66;03m# process.  This child is dead, we can't get the status.\u001b[39;00m\n\u001b[1;32m   2009\u001b[0m     pid \u001b[38;5;241m=\u001b[39m \u001b[38;5;28mself\u001b[39m\u001b[38;5;241m.\u001b[39mpid\n",
      "\u001b[0;31mKeyboardInterrupt\u001b[0m: "
     ]
    }
   ],
   "source": [
    "flacdf.groupby('tag').apply(\n",
    "    lambda x: subprocess.run(\n",
    "        ['/global/home/groups/fc_phonlab/miniconda3/envs/phonlab3.11/bin/sox'] + \\\n",
    "        list(x['fname']) + \\\n",
    "        [f\"{x.iloc[0]['tag']}.flac\"],\n",
    "        cwd=flacdir / x.iloc[0]['relpath']\n",
    "    )\n",
    ")"
   ]
  }
 ],
 "metadata": {
  "kernelspec": {
   "display_name": "Phonlab Python 3.11",
   "language": "python",
   "name": "python-3.11-phonlab"
  },
  "language_info": {
   "codemirror_mode": {
    "name": "ipython",
    "version": 3
   },
   "file_extension": ".py",
   "mimetype": "text/x-python",
   "name": "python",
   "nbconvert_exporter": "python",
   "pygments_lexer": "ipython3",
   "version": "3.11.4"
  },
  "varInspector": {
   "cols": {
    "lenName": 16,
    "lenType": 16,
    "lenVar": 40
   },
   "kernels_config": {
    "python": {
     "delete_cmd_postfix": "",
     "delete_cmd_prefix": "del ",
     "library": "var_list.py",
     "varRefreshCmd": "print(var_dic_list())"
    },
    "r": {
     "delete_cmd_postfix": ") ",
     "delete_cmd_prefix": "rm(",
     "library": "var_list.r",
     "varRefreshCmd": "cat(var_dic_list()) "
    }
   },
   "types_to_exclude": [
    "module",
    "function",
    "builtin_function_or_method",
    "instance",
    "_Feature"
   ],
   "window_display": false
  }
 },
 "nbformat": 4,
 "nbformat_minor": 5
}
