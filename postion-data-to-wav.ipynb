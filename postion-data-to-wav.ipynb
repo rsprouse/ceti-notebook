{
 "cells": [
  {
   "cell_type": "markdown",
   "id": "675334f9-1694-4680-aa80-eca6d83a2c79",
   "metadata": {},
   "source": [
    "# Transform position data to `.wav` files\n",
    "\n",
    "Position data for 2014-2018 has been stored in `.mat` files with other data. For convenience, this notebook converts the position data to channels in a `.wav` file. The output filenames match the the name scheme of `.flac` files found elsewhere. This filename matches the `.mat` filename with the two-digit year and underscore portions removed.\n",
    "\n",
    "Channel order:\n",
    "\n",
    "0. depth\n",
    "1. pitch\n",
    "2. roll\n",
    "3. head(ing)\n",
    "\n"
   ]
  },
  {
   "cell_type": "code",
   "execution_count": null,
   "id": "2c88f0cc-1dc8-47d1-9bf8-6c201c8b12ce",
   "metadata": {},
   "outputs": [],
   "source": [
    "import sys\n",
    "from pathlib import Path\n",
    "import numpy as np\n",
    "import pandas as pd\n",
    "import scipy.io.wavfile as wavfile\n",
    "from scipy.io import loadmat\n",
    "from phonlab.utils import dir2df\n",
    "\n",
    "import matplotlib.pyplot as plt"
   ]
  },
  {
   "cell_type": "code",
   "execution_count": null,
   "id": "f780d936-a1d4-4c2a-bb5a-b9be84998d60",
   "metadata": {},
   "outputs": [],
   "source": [
    "positiondir = Path('/Users/ronald/src/cetiprojects/combined_data/')"
   ]
  },
  {
   "cell_type": "code",
   "execution_count": null,
   "id": "0d3ac887-dd18-43e0-9292-eecae19f76d7",
   "metadata": {},
   "outputs": [],
   "source": [
    "matdf = dir2df(positiondir, fnpat='sw\\d+_(?P<tag>\\d+[a-z])')\n",
    "matdf"
   ]
  },
  {
   "cell_type": "code",
   "execution_count": null,
   "id": "972d7cde-e8e6-41da-8f8f-db32c8570849",
   "metadata": {},
   "outputs": [],
   "source": [
    "dfs = []\n",
    "for row in matdf.itertuples():\n",
    "    mat = loadmat(positiondir / row.fname, simplify_cells=True)\n",
    "    wdf = pd.DataFrame(mat['whale'])\n",
    "    wdf['fname'] = row.fname\n",
    "    wdf['outwav'] = positiondir / f'sw{row.tag}.dprh.wav'\n",
    "    # (Some of the?) Columns for which the value in the first row applies to all rows in the .mat file.\n",
    "    for col in ('TagID', 'Whale', 'MovementFS', 'RecDur', 'TagOnLocal', 'TagOnUTC', 'Sunset'):\n",
    "        wdf[col] = wdf.iloc[0][col]\n",
    "    dfs.append(wdf)\n",
    "divedf = pd.concat(dfs, axis='rows').reset_index(drop=True)\n",
    "divedf = pd.concat(\n",
    "    [\n",
    "        divedf,\n",
    "        divedf['TagID'].str.extract(r'sw(?P<year>\\d+)_(?P<tag>(?P<day>\\d+)(?P<tagidx>[a-z]))')\n",
    "    ], axis='columns'\n",
    ")\n",
    "divedf"
   ]
  },
  {
   "cell_type": "code",
   "execution_count": null,
   "id": "bc3623e4-b007-4297-94c9-f34cc7f2516f",
   "metadata": {},
   "outputs": [],
   "source": [
    "def tag2wav(tag):\n",
    "    '''\n",
    "    Convert position data in a dive dataframe associated with a tag to a\n",
    "    .wav file.\n",
    "\n",
    "    There are multiple dives in a single recording, and the position data\n",
    "    is stored in the first dive.\n",
    "    '''\n",
    "    print(f'Working on {tag.name}')\n",
    "    try:\n",
    "        d = np.array([\n",
    "            np.nan_to_num(tag.iloc[0]['Depth'], nan=-100) * -1,\n",
    "            np.nan_to_num(tag.iloc[0]['Pitch'], nan=1000),\n",
    "            np.nan_to_num(tag.iloc[0]['Roll'], nan=1000),\n",
    "            np.nan_to_num(tag.iloc[0]['Head'], nan=1000)\n",
    "        ]).T\n",
    "    except ValueError as e:\n",
    "        if np.isnan(tag.iloc[0]['Pitch']) and np.isnan(tag.iloc[0]['Roll']) and np.isnan(tag.iloc[0]['Head']):\n",
    "            d = np.array([\n",
    "                np.nan_to_num(tag.iloc[0]['Depth'], nan=-100) * -1,\n",
    "                np.zeros(len(tag.iloc[0]['Depth'])) + 1000,\n",
    "                np.zeros(len(tag.iloc[0]['Depth'])) + 1000,\n",
    "                np.zeros(len(tag.iloc[0]['Depth'])) + 1000,\n",
    "            ]).T\n",
    "        print(f'\\n\\nCreated placeholder values for missing pitch/roll/head data for tag {tag.name}.\\n\\n')\n",
    "    except Exception as e:\n",
    "        print(f'Error reading positions for tag {tag.name}.\\n\\n{e}\\n\\n')\n",
    "        return\n",
    "    try:\n",
    "        rate = int(tag.iloc[0]['MovementFS'])\n",
    "    except ValueError:\n",
    "        if np.isnan(tag.iloc[0]['MovementFS']):\n",
    "            rate = int(25)   # Default to 25Hz; all files appear to be 25Hz rate.\n",
    "    except Exception as e:\n",
    "        print(f'Could not get rate for tag {tag.name}.\\n\\n{e}\\n\\n')\n",
    "        return\n",
    "    try:\n",
    "        wavfile.write(\n",
    "            tag.iloc[0]['outwav'],\n",
    "            rate,\n",
    "            d\n",
    "        )\n",
    "        print(f\"Wrote {tag.iloc[0]['outwav']}\")\n",
    "    except Exception as e:\n",
    "        print(f'Error writing .wav file for tag {tag.name} using rate {rate}.\\n\\n{e}\\n\\n')\n",
    "    return\n",
    "d = divedf.groupby('tag').apply(tag2wav, include_groups=False)"
   ]
  },
  {
   "cell_type": "code",
   "execution_count": null,
   "id": "825bb671-1709-49e6-8954-268370c20e04",
   "metadata": {},
   "outputs": [],
   "source": [
    "divedf[divedf['TagID'] == 'sw14_092a']['Depth']"
   ]
  }
 ],
 "metadata": {
  "kernelspec": {
   "display_name": "Python 3 (ipykernel)",
   "language": "python",
   "name": "python3"
  },
  "language_info": {
   "codemirror_mode": {
    "name": "ipython",
    "version": 3
   },
   "file_extension": ".py",
   "mimetype": "text/x-python",
   "name": "python",
   "nbconvert_exporter": "python",
   "pygments_lexer": "ipython3",
   "version": "3.11.8"
  }
 },
 "nbformat": 4,
 "nbformat_minor": 5
}
